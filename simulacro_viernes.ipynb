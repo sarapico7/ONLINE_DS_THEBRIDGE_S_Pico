{
 "cells": [
  {
   "attachments": {},
   "cell_type": "markdown",
   "metadata": {},
   "source": [
    "# Simulacro Rampup"
   ]
  },
  {
   "cell_type": "code",
   "execution_count": 1,
   "metadata": {},
   "outputs": [],
   "source": [
    "# Escribe tu nombre y apellidos (apellido si solo tienes uno) en las variables:\n",
    "nombre = \"Sara\"\n",
    "apellidos = \"Picó del Pino\""
   ]
  },
  {
   "cell_type": "code",
   "execution_count": 2,
   "metadata": {},
   "outputs": [
    {
     "name": "stdout",
     "output_type": "stream",
     "text": [
      "Bienvenido Sara Picó del Pino. Mucha suerte!\n"
     ]
    }
   ],
   "source": [
    "# Solo ejecutar\n",
    "nombre_apellidos = nombre + ' ' + apellidos\n",
    "print(\"Bienvenido\", nombre_apellidos + '. Mucha suerte!')"
   ]
  },
  {
   "cell_type": "markdown",
   "metadata": {},
   "source": [
    "### Ejercicio 1: Calculadoras (3 puntos)\n"
   ]
  },
  {
   "cell_type": "markdown",
   "metadata": {},
   "source": [
    "Construye un programa que:\n",
    "\n",
    "- Salude al usuario por su nombre\n",
    "- Le pregunte si quiere sumar, restar, multiplicar o dividir\n",
    "- Pida que introduzca 2 números de manera sucesiva\n",
    "- Devuelva el resultado de manera formal con un mensaje apropiado \n",
    "\n",
    "**Ayuda**: No se puede dividir por 0"
   ]
  },
  {
   "cell_type": "code",
   "execution_count": 1,
   "metadata": {},
   "outputs": [
    {
     "name": "stdin",
     "output_type": "stream",
     "text": [
      "Cual es tu nombre? sara\n"
     ]
    },
    {
     "name": "stdout",
     "output_type": "stream",
     "text": [
      "Bienvenida sara\n"
     ]
    },
    {
     "name": "stdin",
     "output_type": "stream",
     "text": [
      "que quiere hacer?, Introduzca +, -, * o / *\n",
      "introduzca primer numero 2\n",
      "introduzca segundo numero 3\n"
     ]
    },
    {
     "name": "stdout",
     "output_type": "stream",
     "text": [
      "6\n"
     ]
    }
   ],
   "source": [
    "bienvenida = input(\"Cual es tu nombre?\")\n",
    "print(\"Bienvenida\", bienvenida)\n",
    "operacion = input(\"que quiere hacer?, Introduzca +, -, * o /\")\n",
    "numero1 = int(input(\"introduzca primer numero\"))\n",
    "numero2 = int(input(\"introduzca segundo numero\"))\n",
    "\n",
    "if operacion == \"+\":\n",
    "    resultado = numero1 + numero2\n",
    "elif operacion == \"-\":\n",
    "    resultado = numero1 - numero2\n",
    "elif operacion == \"*\":\n",
    "    resultado = numero1 * numero2\n",
    "elif operacion == \"/\":\n",
    "    resultado = numero1 / numero2\n",
    "print(resultado)"
   ]
  },
  {
   "cell_type": "markdown",
   "metadata": {},
   "source": [
    "Construye una calculadora que sea como la anterior pero:\n",
    "\n",
    "- Acepte tantos valores de entrada como queramos\n",
    "- Devuelva mensajes con las cuentas que se van haciendo.\n",
    "- Permita salir con una palabra clave (exit, quit, ...)"
   ]
  },
  {
   "cell_type": "code",
   "execution_count": 11,
   "metadata": {},
   "outputs": [
    {
     "name": "stdin",
     "output_type": "stream",
     "text": [
      "Cual es tu nombre? sara\n"
     ]
    },
    {
     "name": "stdout",
     "output_type": "stream",
     "text": [
      "Bienvenida sara\n"
     ]
    },
    {
     "name": "stdin",
     "output_type": "stream",
     "text": [
      "que quiere hacer?, Introduzca +, -, * o / 3,2\n",
      "Que valores quieres calcular? 3,2\n"
     ]
    },
    {
     "name": "stdout",
     "output_type": "stream",
     "text": [
      "None\n"
     ]
    },
    {
     "name": "stdin",
     "output_type": "stream",
     "text": [
      "que quiere hacer?, Introduzca +, -, * o / exit\n"
     ]
    }
   ],
   "source": [
    "bienvenida = input(\"Cual es tu nombre?\")\n",
    "print(\"Bienvenida\", bienvenida)\n",
    "\n",
    "def calcular(operacion, numeros):\n",
    "    if operacion == \"+\":\n",
    "        resultado = sum(numeros)\n",
    "        return f\"La suma de {', '.join([str(num) for num in numeros])} es {resultado}.\"\n",
    "    elif operacion == \"-\":\n",
    "        resultado = numeros[0] - sum(numeros[1:])\n",
    "        return f\"La resta de {numeros[0]} menos {', '.join([str(num) for num in numeros[1:]])} es {resultado}.\"\n",
    "    elif operacion == \"*\":\n",
    "        resultado = 1\n",
    "        for numero in numeros:\n",
    "            resultado *= numero\n",
    "        return f\"El producto de {', '.join([str(num) for num in numeros])} es {resultado}.\"\n",
    "    elif operacion == \"/\":\n",
    "        resultado = numeros[0]\n",
    "        for numero in numeros[1:]:\n",
    "            if numero != 0:\n",
    "                resultado /= numero\n",
    "            else:\n",
    "                return \"No es posible dividir por cero.\"\n",
    "        return f\"La división de {', '.join([str(num) for num in numeros])} es {resultado}.\"\n",
    "\n",
    "\n",
    "while True:\n",
    "    operacion = input(\"que quiere hacer?, Introduzca +, -, * o /\")\n",
    "    if operacion in [\"exit\", \"quit\"]:\n",
    "        break\n",
    "    \n",
    "    try:\n",
    "        valores = input(\"Que valores quieres calcular?\")\n",
    "        numeros = [float(valor) for valor in valores.split(\",\")]\n",
    "        resultado = calcular(operacion, numeros)\n",
    "        print(resultado)\n",
    "    except ValueError:\n",
    "        print(\"Error\")\n",
    "\n",
    "\n"
   ]
  },
  {
   "cell_type": "code",
   "execution_count": null,
   "metadata": {},
   "outputs": [],
   "source": []
  },
  {
   "cell_type": "markdown",
   "metadata": {},
   "source": [
    "### Ejercicio 2 (4 puntos)\n",
    "\n",
    "Escribe un programa que trabaje con 3 listas:\n",
    "\n",
    "La lista ***grupo_musical*** contiene strings.\n",
    "\n",
    "La lista ***generos*** contiene strings.\n",
    "\n",
    "La lista ***anios*** puede contener un entero o tuplas.\n",
    "\n",
    "Ejemplo de datos:\n",
    "\n",
    ">\"ABBA\"\n",
    ">\n",
    ">\"pop\"\n",
    ">\n",
    ">(1972, 1982)\n",
    "\n",
    "Otro ejemplo:\n",
    "\n",
    ">\"Madonna\"\n",
    ">\n",
    ">\"pop\"\n",
    ">\n",
    ">1983\n",
    "\n",
    "Otro ejemplo:\n",
    "\n",
    ">\"Kölsch\"\n",
    ">\n",
    ">\"electronica\"\n",
    ">\n",
    ">1995\n",
    "\n",
    "Un grupo musical solo puede tener un género musical.\n",
    "Un grupo musical debe tener como mínimo un año de formación, que es un entero.\n",
    "Un grupo musical, si tuviese año de disolución, la información se guardaría en una tupla.\n",
    "\n",
    "Se pide implementar:\n",
    "\n",
    "a. Una función llamada *inserta* que acepte 4 parámetros (grupo, genero, comienzo, fin). El fin por defecto debe ser un objeto nulo. El grupo se inserta en la lista de grupos. El genero se inserta en la lista de géneros. El comienzo o comienzo y fin se inserta en la lista de años. La función no tiene valor retornado.\n",
    "\n",
    "b. Una función *busca_genero* con un parámetro de tipo string (genero) y devuelve una lista con todos los grupos de ese género.\n",
    "\n",
    "c. Una función *busca_grupos* con un parámetro booleano llamado *activos* con un valor por defecto verdadero. Cuando el valor es verdadero, devuelve solo los grupos activos en una lista. Cuando *activos* es falso, devuelve todos los grupos disueltos en una lista.\n",
    "\n",
    "d. Una función *busca_genero_indice* con un parámetro de tipo string (genero) que devuelve una lista con los índices donde se encuentra ese género.\n",
    "\n",
    "e. Una función *filtra_listas_genero* con un parámetro de tipo string (genero) que devuelve una tupla con las 3 listas filtradas y ***llame*** a busca_genero_indice\n",
    "\n",
    "f. Una función *anios_activos* que no tenga parámetros de entrada ni valor retornado que imprima línea a línea la información: grupo musical ---> años activos. Es decir: \n",
    "\n",
    ">ABBA ---> 10 años activos\n",
    ">\n",
    ">Madonna --> 40 años activos\n",
    ">\n",
    ">Kölsch --> 25 años activos\n",
    "\n",
    "\n",
    "Nota: si no te sale un apartado después de un tiempo prudencial, ¡pasa al siguiente!"
   ]
  },
  {
   "cell_type": "code",
   "execution_count": null,
   "metadata": {},
   "outputs": [],
   "source": [
    "grupo_musical = []\n",
    "generos = []\n",
    "anios = []\n",
    "\n",
    "# Una función llamada inserta que acepte 4 parámetros (grupo, genero, comienzo, fin). \n",
    "#El fin por defecto debe ser un objeto nulo. El grupo se inserta en la lista de grupos. \n",
    "#El genero se inserta en la lista de géneros. El comienzo o comienzo y fin se inserta en la lista de años. \n",
    "#La función no tiene valor retornado.\n",
    "def inserta (grupo,genero,comienzo, fin = None):\n",
    "    grupo_musical.append(grupo)\n",
    "    generos.append(genero)\n",
    "    if fin != None:\n",
    "        anios.append(comienzo,fin)\n",
    "\n",
    "# Una función busca_genero con un parámetro de tipo string (genero) y devuelve una lista con todos los grupos de ese género.\n",
    "def busca_genero(genero):\n",
    "    grupos_del_genero = []\n",
    "    for gen in generos:\n",
    "        if gen == genero:\n",
    "            grupos_del_genero.append(grupo)\n",
    "    return grupos_del_genero\n",
    "\n",
    "#Una función busca_grupos con un parámetro booleano llamado activos con un valor por defecto verdadero. \n",
    "#Cuando el valor es verdadero, devuelve solo los grupos activos en una lista. \n",
    "#Cuando activos es falso, devuelve todos los grupos disueltos en una lista.\n",
    "\n",
    "def busca_grupos(activos=True):\n",
    "    grupos_result = []  # Creamos una lista vacía para almacenar los grupos que cumplan con la condición\n",
    "    for i, grupo in enumerate(grupo_musical):\n",
    "        # Recorremos la lista de grupos musicales y sus índices\n",
    "        if activos and anios[i] == int(anios[i]):\n",
    "            # Si la condición es buscar grupos activos (activos=True) y el año de formación es un entero (int),\n",
    "            # lo que indica que el grupo está activo (sin año de disolución),\n",
    "            # agregamos el grupo a la lista de resultados\n",
    "            grupos_result.append(grupo)\n",
    "        elif not activos and not anios[i] == int(anios[i]):\n",
    "            # Si la condición es buscar grupos disueltos (activos=False) y el año de formación no es un entero (int),\n",
    "            # lo que indica que el grupo está disuelto (con año de disolución),\n",
    "            # agregamos el grupo a la lista de resultados\n",
    "            grupos_result.append(grupo)\n",
    "    return grupos_result  # Devolvemos la lista de grupos que cumplen con la condición\n",
    "\n",
    "\n",
    "# Una función busca_genero_indice con un parámetro de tipo string (genero) que devuelve una lista con \n",
    "#los índices donde se encuentra ese género.\n",
    "\n",
    "def busca_genero_indice(genero):\n",
    "    indices = [i for i, gen in enumerate(generos) if gen == genero]\n",
    "    return indices\n",
    "\n",
    "# Una función filtra_listas_genero con un parámetro de tipo string (genero) que \n",
    "#devuelve una tupla con las 3 listas filtradas y llame a busca_genero_indice\n",
    "def filtra_listas_genero(genero):\n",
    "    indices = busca_genero_indice(genero)\n",
    "    grupos_filtrados = [grupo_musical[i] for i in indices]\n",
    "    generos_filtrados = [generos[i] for i in indices]\n",
    "    anios_filtrados = [anios[i] for i in indices]\n",
    "    return grupos_filtrados, generos_filtrados, anios_filtrados\n",
    "    \n",
    "\n",
    "\n",
    "# Una función anios_activos que no tenga parámetros de entrada ni valor retornado que imprima línea a línea la información: \n",
    "#grupo musical ---> años activos. Es decir:\n",
    "\n",
    "#ABBA ---> 10 años activos\n",
    "\n",
    "#Madonna --> 40 años activos\n",
    "\n",
    "#Kölsch --> 25 años activos\n",
    "\n",
    "def anios_activos():\n",
    "    for grupo, anio in zip(grupo_musical, anios):\n",
    "        if isinstance(anio, tuple):\n",
    "            inicio, fin = anio\n",
    "            años_activos = fin - inicio\n",
    "        else:\n",
    "            años_activos = 2023 - anio  # Asumiendo que el año actual es 2023\n",
    "        print(f\"{grupo} --> {años_activos} años activos\")"
   ]
  },
  {
   "attachments": {},
   "cell_type": "markdown",
   "metadata": {},
   "source": [
    "### Ejercicio 3 (3 puntos)\n",
    "\n",
    "#### Crear un programa que calcule la cuota de una hipoteca\n",
    "\n",
    "Las cuotas hipotecarias se calculan utilizando la fórmula del interés francés. \n",
    "\n",
    "La fórmula del interés francés es la siguiente:\n",
    "\\begin{align*}\n",
    "C=V \\frac{(1+i)^n i}{(1+i)^n -1}\n",
    "\\end{align*}\n",
    "\n",
    "\n",
    "    C = cuota a pagar (mensual)\n",
    "    V = volumen del préstamo hipotecario\n",
    "    i = tipo de interés del período (mensual)\n",
    "    n = número de cuotas (mensuales)\n",
    "\n"
   ]
  },
  {
   "attachments": {},
   "cell_type": "markdown",
   "metadata": {},
   "source": [
    "1. Crea un programa que solicite al usuario los datos de su hipoteca mediante input() los datos (volumen, interés **anual**, y plazo en **años**) y le devuelva la cuota **mensual** a pagar. No es necesario encapsularlo en funciones. (0.4)"
   ]
  },
  {
   "cell_type": "code",
   "execution_count": 9,
   "metadata": {},
   "outputs": [
    {
     "name": "stdin",
     "output_type": "stream",
     "text": [
      "introduce volumen, interes y plazo en meses separado por comas 3,4,5\n"
     ]
    },
    {
     "name": "stdout",
     "output_type": "stream",
     "text": [
      "0.01\n"
     ]
    }
   ],
   "source": [
    "datos = input(\"introduce volumen, interes y plazo en meses separado por comas\")\n",
    "datos_list = datos.split(\",\")\n",
    "volumen = float(datos_list[0])\n",
    "interes_anual = float(datos_list[1].replace(\"%\",\"\"))/100/12\n",
    "plazo = float(datos_list[2])\n",
    "\n",
    "numerador = (1 + interes) ** plazo * interes_anual\n",
    "denominador = (1 + interes) ** plazo\n",
    "cuota = volumen * (numerador/denominador)\n",
    "print(cuota)"
   ]
  },
  {
   "attachments": {},
   "cell_type": "markdown",
   "metadata": {},
   "source": [
    "2. Crea una función `calcular_hip` que realiza el cálculo y cuyos argumentos de entrada sean `volumen`, `interes_anual` y `años`, devolviendo la couta mensual(float). El argumento de `años` deberá de tener un valor por defecto de 30. Documenta la función con el estilo de Google.  (0.4)"
   ]
  },
  {
   "cell_type": "code",
   "execution_count": 13,
   "metadata": {},
   "outputs": [
    {
     "data": {
      "text/plain": [
       "900000.0"
      ]
     },
     "execution_count": 13,
     "metadata": {},
     "output_type": "execute_result"
    }
   ],
   "source": [
    "def calcular_hip(volumen, interes_anual, agnos=30):\n",
    "    \"\"\"\n",
    "    Calcula la cuota mensual de una hipoteca utilizando la fórmula del interés francés.\n",
    "\n",
    "    Argumentos:\n",
    "        volumen (float): El volumen del préstamo hipotecario.\n",
    "        interes_anual (float): La tasa de interés anual en porcentaje.\n",
    "        años (int, optional): El número de años del préstamo (predeterminado es 30 años).\n",
    "\n",
    "    Returns:\n",
    "        float: La cuota mensual de la hipoteca.\n",
    "\n",
    "    Example:\n",
    "        >>> calcular_hip(200000, 4.5)\n",
    "        1013.37\n",
    "    \"\"\"\n",
    "    numerador = (1 + interes) ** plazo * interes_anual\n",
    "    denominador = (1 + interes) ** plazo\n",
    "    cuota = volumen * (numerador/denominador)\n",
    "    return cuota\n",
    "\n",
    "calcular_hip(200000, 4.5)\n"
   ]
  },
  {
   "attachments": {},
   "cell_type": "markdown",
   "metadata": {},
   "source": [
    "3. Calcula la cuota y guárdala en la variable `res_cuota` si la cantidad de la hipoteca son 350000 euros, el interés anual es del 5% y la quiere pagar en 20 años a partir de la función `calcular_hip`. (0.4)\n",
    "\n"
   ]
  },
  {
   "cell_type": "code",
   "execution_count": 15,
   "metadata": {},
   "outputs": [
    {
     "name": "stdout",
     "output_type": "stream",
     "text": [
      "1750000.0\n"
     ]
    }
   ],
   "source": [
    "res_cuota = calcular_hip(350000, 5)\n",
    "print(res_cuota)"
   ]
  },
  {
   "attachments": {},
   "cell_type": "markdown",
   "metadata": {},
   "source": [
    "4. Crea una función `gasto_vivienda`, con dos argumentos de entrada `ingreso` y `lista_hip`. Esta lista tendrá los 3 valores de los argumentos de entrada de `calcular_hip`, llamando a esta función desde dentro de `gasto_vivienda`. Tiene que devolver el valor del porcentaje de gasto en la hipoteca respecto a los ingresos. (Entre 0 y 1, es decir 0.5 si es del 50%) Documenta la función. (0.4)"
   ]
  },
  {
   "cell_type": "code",
   "execution_count": null,
   "metadata": {},
   "outputs": [],
   "source": [
    "def gasto_vivienda(ingreso, lista_hip):\n",
    "    calcular_hip"
   ]
  },
  {
   "attachments": {},
   "cell_type": "markdown",
   "metadata": {},
   "source": [
    "5. Calcula el porcentaje de gasto en la hipoteca si el ingreso es de 1700 euros y guárdalo en la variable `res_porcentaje` a partir de la función `gasto_vivienda`. (0.4)\n"
   ]
  },
  {
   "cell_type": "code",
   "execution_count": null,
   "metadata": {},
   "outputs": [],
   "source": [
    "res_porcentaje = gasto_vivienda(1700, )\n",
    "print(res_porcentaje)"
   ]
  }
 ],
 "metadata": {
  "kernelspec": {
   "display_name": "Python 3 (ipykernel)",
   "language": "python",
   "name": "python3"
  },
  "language_info": {
   "codemirror_mode": {
    "name": "ipython",
    "version": 3
   },
   "file_extension": ".py",
   "mimetype": "text/x-python",
   "name": "python",
   "nbconvert_exporter": "python",
   "pygments_lexer": "ipython3",
   "version": "3.11.5"
  },
  "vscode": {
   "interpreter": {
    "hash": "90139cb9a825bf3d63f6f6704e828dbd1ff7edbd4d0c6e906a71235d6efc74af"
   }
  }
 },
 "nbformat": 4,
 "nbformat_minor": 4
}
